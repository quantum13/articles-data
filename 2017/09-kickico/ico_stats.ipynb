{
 "cells": [
  {
   "cell_type": "code",
   "execution_count": 1,
   "metadata": {
    "collapsed": false,
    "deletable": true,
    "editable": true
   },
   "outputs": [],
   "source": [
    "import pandas as pd\n",
    "import urllib.request\n",
    "%matplotlib inline\n",
    "import seaborn as sns"
   ]
  },
  {
   "cell_type": "code",
   "execution_count": null,
   "metadata": {
    "collapsed": true,
    "deletable": true,
    "editable": true
   },
   "outputs": [],
   "source": []
  },
  {
   "cell_type": "code",
   "execution_count": 2,
   "metadata": {
    "collapsed": true,
    "deletable": true,
    "editable": true
   },
   "outputs": [],
   "source": [
    "preico_addr = '0x71c2683152b632fa1d515a3df067825e2b240216'\n",
    "ico1_addr = '0xd48e165b0027e8055b3b7016a35078b23527a95d'\n",
    "ico2_addr = '0x3aa5fa4fbf18d19548680a5f2bba061b18fed26b'\n",
    "\n",
    "url_template = 'http://api.etherscan.io/api?module=account&action=txlist&sort=asc&address=%s'\n"
   ]
  },
  {
   "cell_type": "code",
   "execution_count": 3,
   "metadata": {
    "collapsed": false,
    "deletable": true,
    "editable": true
   },
   "outputs": [],
   "source": [
    "def get_url(url):\n",
    "    response = urllib.request.urlopen(url)\n",
    "    data = response.read()\n",
    "    return  data.decode('utf-8').replace('{\"status\":\"1\",\"message\":\"OK\",\"result\":', '').replace('}]}', '}]')"
   ]
  },
  {
   "cell_type": "code",
   "execution_count": 4,
   "metadata": {
    "collapsed": false,
    "deletable": true,
    "editable": true
   },
   "outputs": [],
   "source": [
    "preico_json = get_url(url_template % preico_addr)\n",
    "ico1_json = get_url(url_template % ico1_addr)\n",
    "ico2_1_json = get_url(url_template % ico2_addr)\n",
    "ico2_2_json = get_url((url_template+'&startblock=4263256&') % ico2_addr)\n"
   ]
  },
  {
   "cell_type": "code",
   "execution_count": null,
   "metadata": {
    "collapsed": true,
    "deletable": true,
    "editable": true
   },
   "outputs": [],
   "source": []
  },
  {
   "cell_type": "code",
   "execution_count": 5,
   "metadata": {
    "collapsed": false,
    "deletable": true,
    "editable": true
   },
   "outputs": [],
   "source": [
    "preico = pd.read_json(preico_json)\n",
    "ico1 = pd.read_json(ico1_json)\n",
    "ico2_1 = pd.read_json(ico2_1_json)\n",
    "ico2_2 = pd.read_json(ico2_2_json)\n",
    "\n",
    "ico = pd.concat([ico1, ico2_1, ico2_2])"
   ]
  },
  {
   "cell_type": "code",
   "execution_count": 6,
   "metadata": {
    "collapsed": false,
    "deletable": true,
    "editable": true
   },
   "outputs": [],
   "source": [
    "#to ether from whei\n",
    "preico['value'] /= 10**18\n",
    "ico['value'] /= 10**18"
   ]
  },
  {
   "cell_type": "code",
   "execution_count": 7,
   "metadata": {
    "collapsed": false,
    "deletable": true,
    "editable": true
   },
   "outputs": [
    {
     "data": {
      "text/html": [
       "<div>\n",
       "<table border=\"1\" class=\"dataframe\">\n",
       "  <thead>\n",
       "    <tr style=\"text-align: right;\">\n",
       "      <th></th>\n",
       "      <th>blockHash</th>\n",
       "      <th>blockNumber</th>\n",
       "      <th>confirmations</th>\n",
       "      <th>contractAddress</th>\n",
       "      <th>cumulativeGasUsed</th>\n",
       "      <th>from</th>\n",
       "      <th>gas</th>\n",
       "      <th>gasPrice</th>\n",
       "      <th>gasUsed</th>\n",
       "      <th>hash</th>\n",
       "      <th>input</th>\n",
       "      <th>isError</th>\n",
       "      <th>nonce</th>\n",
       "      <th>timeStamp</th>\n",
       "      <th>to</th>\n",
       "      <th>transactionIndex</th>\n",
       "      <th>value</th>\n",
       "    </tr>\n",
       "  </thead>\n",
       "  <tbody>\n",
       "    <tr>\n",
       "      <th>3891</th>\n",
       "      <td>0xdf7f53a8d95f72764c7f035c8ac4f1c4920d478dd643...</td>\n",
       "      <td>4281264</td>\n",
       "      <td>383</td>\n",
       "      <td></td>\n",
       "      <td>932366</td>\n",
       "      <td>0xa4919f3b08c686a61f3ad5e4453aca332e48f463</td>\n",
       "      <td>90000</td>\n",
       "      <td>28000000000</td>\n",
       "      <td>90000</td>\n",
       "      <td>0xb3b51743112249ae074799e42e431101631564dea0a4...</td>\n",
       "      <td>0x</td>\n",
       "      <td>1</td>\n",
       "      <td>0</td>\n",
       "      <td>2017-09-16 19:16:51</td>\n",
       "      <td>0x3aa5fa4fbf18d19548680a5f2bba061b18fed26b</td>\n",
       "      <td>19</td>\n",
       "      <td>4.0</td>\n",
       "    </tr>\n",
       "    <tr>\n",
       "      <th>3892</th>\n",
       "      <td>0x1d1bc70c3ae9320abea29c9bbfe28bd3559f94d89981...</td>\n",
       "      <td>4281422</td>\n",
       "      <td>225</td>\n",
       "      <td></td>\n",
       "      <td>5257396</td>\n",
       "      <td>0xa39fa7237486da77c52b046529fc28a285318413</td>\n",
       "      <td>300000</td>\n",
       "      <td>21000000000</td>\n",
       "      <td>300000</td>\n",
       "      <td>0x26085682a3508ebc97f26eddb1fe3350f308d1e8ced7...</td>\n",
       "      <td>0x</td>\n",
       "      <td>1</td>\n",
       "      <td>13</td>\n",
       "      <td>2017-09-16 20:18:03</td>\n",
       "      <td>0x3aa5fa4fbf18d19548680a5f2bba061b18fed26b</td>\n",
       "      <td>199</td>\n",
       "      <td>0.4</td>\n",
       "    </tr>\n",
       "  </tbody>\n",
       "</table>\n",
       "</div>"
      ],
      "text/plain": [
       "                                              blockHash  blockNumber  \\\n",
       "3891  0xdf7f53a8d95f72764c7f035c8ac4f1c4920d478dd643...      4281264   \n",
       "3892  0x1d1bc70c3ae9320abea29c9bbfe28bd3559f94d89981...      4281422   \n",
       "\n",
       "      confirmations contractAddress  cumulativeGasUsed  \\\n",
       "3891            383                             932366   \n",
       "3892            225                            5257396   \n",
       "\n",
       "                                            from     gas     gasPrice  \\\n",
       "3891  0xa4919f3b08c686a61f3ad5e4453aca332e48f463   90000  28000000000   \n",
       "3892  0xa39fa7237486da77c52b046529fc28a285318413  300000  21000000000   \n",
       "\n",
       "      gasUsed                                               hash input  \\\n",
       "3891    90000  0xb3b51743112249ae074799e42e431101631564dea0a4...    0x   \n",
       "3892   300000  0x26085682a3508ebc97f26eddb1fe3350f308d1e8ced7...    0x   \n",
       "\n",
       "      isError  nonce           timeStamp  \\\n",
       "3891        1      0 2017-09-16 19:16:51   \n",
       "3892        1     13 2017-09-16 20:18:03   \n",
       "\n",
       "                                              to  transactionIndex  value  \n",
       "3891  0x3aa5fa4fbf18d19548680a5f2bba061b18fed26b                19    4.0  \n",
       "3892  0x3aa5fa4fbf18d19548680a5f2bba061b18fed26b               199    0.4  "
      ]
     },
     "execution_count": 7,
     "metadata": {},
     "output_type": "execute_result"
    }
   ],
   "source": [
    "ico.tail(2)"
   ]
  },
  {
   "cell_type": "code",
   "execution_count": null,
   "metadata": {
    "collapsed": true,
    "deletable": true,
    "editable": true
   },
   "outputs": [],
   "source": []
  },
  {
   "cell_type": "code",
   "execution_count": 8,
   "metadata": {
    "collapsed": false,
    "deletable": true,
    "editable": true
   },
   "outputs": [
    {
     "data": {
      "text/plain": [
       "(1316, 19128)"
      ]
     },
     "execution_count": 8,
     "metadata": {},
     "output_type": "execute_result"
    }
   ],
   "source": [
    "#transactions count (preico, ico)\n",
    "preico.shape[0], ico.shape[0]"
   ]
  },
  {
   "cell_type": "code",
   "execution_count": null,
   "metadata": {
    "collapsed": true,
    "deletable": true,
    "editable": true
   },
   "outputs": [],
   "source": []
  },
  {
   "cell_type": "code",
   "execution_count": 9,
   "metadata": {
    "collapsed": false,
    "deletable": true,
    "editable": true
   },
   "outputs": [
    {
     "data": {
      "text/plain": [
       "(1007, 15437)"
      ]
     },
     "execution_count": 9,
     "metadata": {},
     "output_type": "execute_result"
    }
   ],
   "source": [
    "#valid transactions (preico, ico)\n",
    "preico_valid = preico[preico['isError']==0]\n",
    "ico_valid = ico[ico['isError']==0]\n",
    "\n",
    "preico_valid.shape[0], ico_valid.shape[0]"
   ]
  },
  {
   "cell_type": "code",
   "execution_count": 11,
   "metadata": {
    "collapsed": false
   },
   "outputs": [
    {
     "data": {
      "text/plain": [
       "(309, 3691)"
      ]
     },
     "execution_count": 11,
     "metadata": {},
     "output_type": "execute_result"
    }
   ],
   "source": [
    "#invalid transactions (preico, ico)\n",
    "preico_invalid = preico[preico['isError']==1]\n",
    "ico_invalid = ico[ico['isError']==1]\n",
    "\n",
    "preico_invalid.shape[0], ico_invalid.shape[0]"
   ]
  },
  {
   "cell_type": "code",
   "execution_count": 12,
   "metadata": {
    "collapsed": false,
    "deletable": true,
    "editable": true
   },
   "outputs": [
    {
     "data": {
      "text/plain": [
       "(76.51975683890578, 80.70368046842326)"
      ]
     },
     "execution_count": 12,
     "metadata": {},
     "output_type": "execute_result"
    }
   ],
   "source": [
    "#valid transactions percent (preico, ico)\n",
    "\n",
    "preico_valid.shape[0] / preico.shape[0] * 100, \\\n",
    "    ico_valid.shape[0]/ico.shape[0]* 100"
   ]
  },
  {
   "cell_type": "code",
   "execution_count": null,
   "metadata": {
    "collapsed": true,
    "deletable": true,
    "editable": true
   },
   "outputs": [],
   "source": []
  },
  {
   "cell_type": "code",
   "execution_count": 13,
   "metadata": {
    "collapsed": false,
    "deletable": true,
    "editable": true
   },
   "outputs": [
    {
     "data": {
      "text/plain": [
       "isError\n",
       "0    5063.229048\n",
       "1     903.947446\n",
       "Name: value, dtype: float64"
      ]
     },
     "execution_count": 13,
     "metadata": {},
     "output_type": "execute_result"
    }
   ],
   "source": [
    "#preico raised (valid and error)\n",
    "preico.groupby('isError').sum().value"
   ]
  },
  {
   "cell_type": "code",
   "execution_count": null,
   "metadata": {
    "collapsed": true,
    "deletable": true,
    "editable": true
   },
   "outputs": [],
   "source": []
  },
  {
   "cell_type": "code",
   "execution_count": 14,
   "metadata": {
    "collapsed": false,
    "deletable": true,
    "editable": true
   },
   "outputs": [
    {
     "data": {
      "text/plain": [
       "isError\n",
       "0    81254.673739\n",
       "1    16896.907349\n",
       "Name: value, dtype: float64"
      ]
     },
     "execution_count": 14,
     "metadata": {},
     "output_type": "execute_result"
    }
   ],
   "source": [
    "#ico raised (valid and error)\n",
    "ico.groupby('isError').sum().value"
   ]
  },
  {
   "cell_type": "code",
   "execution_count": 15,
   "metadata": {
    "collapsed": false,
    "deletable": true,
    "editable": true
   },
   "outputs": [
    {
     "data": {
      "text/plain": [
       "1.0"
      ]
     },
     "execution_count": 15,
     "metadata": {},
     "output_type": "execute_result"
    }
   ],
   "source": [
    "#median incoming per transactions (ico)\n",
    "\n",
    "ico_valid['value'].median()"
   ]
  },
  {
   "cell_type": "code",
   "execution_count": 16,
   "metadata": {
    "collapsed": false
   },
   "outputs": [
    {
     "data": {
      "text/plain": [
       "1.196"
      ]
     },
     "execution_count": 16,
     "metadata": {},
     "output_type": "execute_result"
    }
   ],
   "source": [
    "#median incoming per person (ico)\n",
    "ico_valid.groupby('from').sum()['value'].median()"
   ]
  },
  {
   "cell_type": "code",
   "execution_count": 17,
   "metadata": {
    "collapsed": false,
    "deletable": true,
    "editable": true
   },
   "outputs": [
    {
     "data": {
      "text/plain": [
       "(5.0280328179441565, 5.2636311290129143)"
      ]
     },
     "execution_count": 17,
     "metadata": {},
     "output_type": "execute_result"
    }
   ],
   "source": [
    "#avg incoming per transactions (preico, ico)\n",
    "\n",
    "(preico_valid.sum().value / preico_valid.shape[0]), \\\n",
    "    (ico_valid.sum().value / ico_valid.shape[0])"
   ]
  },
  {
   "cell_type": "code",
   "execution_count": 20,
   "metadata": {
    "collapsed": false,
    "deletable": true,
    "editable": true
   },
   "outputs": [
    {
     "data": {
      "text/plain": [
       "12425"
      ]
     },
     "execution_count": 20,
     "metadata": {},
     "output_type": "execute_result"
    }
   ],
   "source": [
    "#unique addresses\n",
    "ico_valid['from'].unique().shape[0]"
   ]
  },
  {
   "cell_type": "code",
   "execution_count": 21,
   "metadata": {
    "collapsed": false,
    "deletable": true,
    "editable": true
   },
   "outputs": [
    {
     "data": {
      "text/plain": [
       "(6.1150109271373978, 6.5396115684967686)"
      ]
     },
     "execution_count": 21,
     "metadata": {},
     "output_type": "execute_result"
    }
   ],
   "source": [
    "#avg incoming per person (preico, ico)\n",
    "\n",
    "(preico_valid.sum().value / preico_valid['from'].unique().shape[0]), \\\n",
    "    (ico_valid.sum().value / ico_valid['from'].unique().shape[0])\n"
   ]
  },
  {
   "cell_type": "code",
   "execution_count": null,
   "metadata": {
    "collapsed": true,
    "deletable": true,
    "editable": true
   },
   "outputs": [],
   "source": []
  },
  {
   "cell_type": "code",
   "execution_count": 22,
   "metadata": {
    "collapsed": false,
    "deletable": true,
    "editable": true
   },
   "outputs": [
    {
     "data": {
      "text/plain": [
       "from\n",
       "0x074d2523c78e59dd0abcf61dd88f2354c0e5b697    500.000000\n",
       "0xf84305d4077ec7e5546adf6f6c89b11e9b694bbc    489.000000\n",
       "0x5aaf1c31254a6e005fba7f5ab0ec79d7fc2b630e    142.000000\n",
       "0xe32ea43ee8670a04cd679c3bdde672188a11511f    136.320000\n",
       "0x1d0738b927dfcbfbd59a9f0944bbd1860d3b9248    130.100000\n",
       "0x4adc8d6d1ace99ce85438a111844c648babf814d    100.714000\n",
       "0x8dbd7b3258be2824df1b3f87430d508638408cc1     70.321302\n",
       "0x971a7659b8f1a887cc96414be36ca3fc885778d7     55.000000\n",
       "0x7fc84138f145ba8f7bead5f970b621eaaf308238     52.000000\n",
       "0xe334c2f2a6749efd1747bb28544751df51917e3c     50.000000\n",
       "Name: value, dtype: float64"
      ]
     },
     "execution_count": 22,
     "metadata": {},
     "output_type": "execute_result"
    }
   ],
   "source": [
    "#top persons on preico\n",
    "preico_valid.groupby('from').sum().sort_values('value', ascending=False)['value'].head(10)"
   ]
  },
  {
   "cell_type": "code",
   "execution_count": 30,
   "metadata": {
    "collapsed": false,
    "deletable": true,
    "editable": true
   },
   "outputs": [
    {
     "data": {
      "text/plain": [
       "550     15125.0\n",
       "1790     3000.0\n",
       "5176     1000.0\n",
       "6580     1000.0\n",
       "7847     1000.0\n",
       "796       800.0\n",
       "2918      667.0\n",
       "2430      500.0\n",
       "854       500.0\n",
       "239       465.0\n",
       "Name: value, dtype: float64"
      ]
     },
     "execution_count": 30,
     "metadata": {},
     "output_type": "execute_result"
    }
   ],
   "source": [
    "#top transactions on ico\n",
    "ico_valid.sort_values('value', ascending=False)['value'].head(10)"
   ]
  },
  {
   "cell_type": "code",
   "execution_count": 23,
   "metadata": {
    "collapsed": false,
    "deletable": true,
    "editable": true
   },
   "outputs": [
    {
     "data": {
      "text/plain": [
       "from\n",
       "0x31ad75479d7757a43e7ccc5bd72a78aa295f8754    15125.0\n",
       "0xaac3b69a5197dd6b1cbab3674f9412a67d4d5ec9     3000.0\n",
       "0xae748eb0d061a1121847fe9462bc6ed3c21b6865     1010.0\n",
       "0x76edd365c44a612c91dd633662b7756adf3c46c2     1000.0\n",
       "0x0464b244c6ccdce93bd2a510fb94f1240b4ad479     1000.0\n",
       "0xfc2fe4c408a0af4c07d9a45453a9cd85cc042fac      800.0\n",
       "0xebb6d58cd96d2617b23b19b8a4ae45a64c4502a7      667.0\n",
       "0xeca935f795af72529d61b02113b60c19c5f4fdd7      500.0\n",
       "0x18a19f00c2124495984776d701155c7c8b7d6625      500.0\n",
       "0xd7cb7484ab22b47d788a34cd8035b9f7b512d371      465.1\n",
       "Name: value, dtype: float64"
      ]
     },
     "execution_count": 23,
     "metadata": {},
     "output_type": "execute_result"
    }
   ],
   "source": [
    "#top persons on ico\n",
    "ico_valid.groupby('from').sum().sort_values('value', ascending=False)['value'].head(10)"
   ]
  },
  {
   "cell_type": "code",
   "execution_count": null,
   "metadata": {
    "collapsed": true,
    "deletable": true,
    "editable": true
   },
   "outputs": [],
   "source": []
  },
  {
   "cell_type": "code",
   "execution_count": 24,
   "metadata": {
    "collapsed": false,
    "deletable": true,
    "editable": true
   },
   "outputs": [
    {
     "data": {
      "text/plain": [
       "from\n",
       "0x318ce896a1520dea2f1748a97b2b631bce44f378    6\n",
       "0x77086b7ff405af6175f88ccc81c67f0b7c050846    5\n",
       "0x5031129a4a1c0eaa0b98f989f9f3087c9a236451    4\n",
       "0xf8c41fce8460a392d22f441835e653d2f9fa8caa    4\n",
       "0x50fa7fdded5d6524d548d9f719cebdc52e0253bb    4\n",
       "0x0299920d70dac3c5299d45a62ebf7c66448f2f97    4\n",
       "0x4a6f39d8c90b6ef31e3191bfecf6727f4cc52358    4\n",
       "0x84c14317b8152ec0317ae420ad8a77ac904eb523    4\n",
       "0x74bf6ed447ae4d994a15c618b51f16b77936c6c6    3\n",
       "0xf30e833ef51ef7c478f1411aeb1b3b81f28a5a58    3\n",
       "Name: value, dtype: int64"
      ]
     },
     "execution_count": 24,
     "metadata": {},
     "output_type": "execute_result"
    }
   ],
   "source": [
    "#top persons by transactions count on preico\n",
    "preico_valid.groupby('from').count().sort_values('value', ascending=False)['value'].head(10)"
   ]
  },
  {
   "cell_type": "code",
   "execution_count": null,
   "metadata": {
    "collapsed": true,
    "deletable": true,
    "editable": true
   },
   "outputs": [],
   "source": []
  },
  {
   "cell_type": "code",
   "execution_count": 25,
   "metadata": {
    "collapsed": false,
    "deletable": true,
    "editable": true
   },
   "outputs": [
    {
     "data": {
      "text/plain": [
       "from\n",
       "0x7ed1e469fcb3ee19c0366d829e291451be638e59    59\n",
       "0xfbb1b73c4f0bda4f67dca266ce6ef42f520fbb98    21\n",
       "0xe7ff568d7ce43384f1069ad66ef9feeae5d41f08    11\n",
       "0x94fdc3e98315ff5d5d64907e377011f407cf9347    10\n",
       "0x74b94cc35855a3156cb8f8ba341a122536b75ec1    10\n",
       "0x873104a06f5e8eb115be8c94e6a19ca3e56623d0    10\n",
       "0xc6d655252082ce78c723f6862559a3a86023db52    10\n",
       "0xca2c8d9ba6ca96b3e0cc51c101d34a164900e7de    10\n",
       "0x5031129a4a1c0eaa0b98f989f9f3087c9a236451     9\n",
       "0x93272b1e5b5d2d642f5edc79f9a0cd93a1b11449     9\n",
       "Name: value, dtype: int64"
      ]
     },
     "execution_count": 25,
     "metadata": {},
     "output_type": "execute_result"
    }
   ],
   "source": [
    "#top persons by transactions count on ico\n",
    "ico_valid.groupby('from').count().sort_values('value', ascending=False)['value'].head(10)"
   ]
  },
  {
   "cell_type": "code",
   "execution_count": null,
   "metadata": {
    "collapsed": true,
    "deletable": true,
    "editable": true
   },
   "outputs": [],
   "source": []
  },
  {
   "cell_type": "code",
   "execution_count": 26,
   "metadata": {
    "collapsed": false,
    "deletable": true,
    "editable": true
   },
   "outputs": [
    {
     "data": {
      "text/plain": [
       "(               timeStamp     value\n",
       " 1229 2017-08-29 13:18:51  3.335000\n",
       " 2114 2017-08-29 13:50:01  0.680000\n",
       " 2435 2017-08-29 13:56:18  2.983000\n",
       " 2632 2017-08-29 14:10:51  0.064171\n",
       " 3048 2017-08-29 14:40:42  4.000000\n",
       " 2168 2017-08-30 03:10:24  0.508491\n",
       " 2690 2017-08-30 06:12:01  0.108740\n",
       " 2767 2017-08-30 06:34:56  0.850000\n",
       " 2971 2017-08-30 07:42:08  0.089858\n",
       " 3215 2017-08-30 10:40:03  0.910555,                timeStamp     value\n",
       " 2512 2017-09-15 16:35:14  2.000000\n",
       " 2624 2017-09-15 19:03:06  1.000000\n",
       " 2685 2017-09-15 21:13:04  1.000000\n",
       " 2814 2017-09-16 00:54:53  1.000000\n",
       " 2859 2017-09-16 02:19:05  0.820000\n",
       " 2949 2017-09-16 05:16:43  1.993740\n",
       " 2980 2017-09-16 08:59:12  2.100000\n",
       " 2985 2017-09-16 09:09:27  1.000000\n",
       " 3466 2017-09-16 14:46:59  0.372545\n",
       " 3789 2017-09-16 17:32:43  5.800000)"
      ]
     },
     "execution_count": 26,
     "metadata": {},
     "output_type": "execute_result"
    }
   ],
   "source": [
    "#transactions of the addr with the biggest transactions count\n",
    "ico_valid[ico_valid['from'] == '0x7ed1e469fcb3ee19c0366d829e291451be638e59'].head(10)[['timeStamp', 'value']], \\\n",
    "ico_valid[ico_valid['from'] == '0x7ed1e469fcb3ee19c0366d829e291451be638e59'].tail(10)[['timeStamp', 'value']]"
   ]
  },
  {
   "cell_type": "code",
   "execution_count": null,
   "metadata": {
    "collapsed": false,
    "deletable": true,
    "editable": true
   },
   "outputs": [],
   "source": []
  },
  {
   "cell_type": "code",
   "execution_count": 27,
   "metadata": {
    "collapsed": false,
    "deletable": true,
    "editable": true
   },
   "outputs": [
    {
     "name": "stdout",
     "output_type": "stream",
     "text": [
      "552\n"
     ]
    },
    {
     "data": {
      "text/plain": [
       "2337.5617919263218"
      ]
     },
     "execution_count": 27,
     "metadata": {},
     "output_type": "execute_result"
    }
   ],
   "source": [
    "ico_err = set(ico[ico[\"isError\"]==1][\"from\"])\n",
    "ico_valid_set = set(ico[ico[\"isError\"]==0][\"from\"])\n",
    "\n",
    "not_reenter = ico_err - ico_valid_set\n",
    "print(len(not_reenter))\n",
    "\n",
    "\n",
    "ico[ico['from'].isin(not_reenter)].sum()['value']"
   ]
  },
  {
   "cell_type": "code",
   "execution_count": null,
   "metadata": {
    "collapsed": false,
    "deletable": true,
    "editable": true
   },
   "outputs": [],
   "source": []
  },
  {
   "cell_type": "code",
   "execution_count": 28,
   "metadata": {
    "collapsed": false,
    "deletable": true,
    "editable": true
   },
   "outputs": [
    {
     "data": {
      "text/plain": [
       "<seaborn.axisgrid.FacetGrid at 0x7f7f61877470>"
      ]
     },
     "execution_count": 28,
     "metadata": {},
     "output_type": "execute_result"
    },
    {
     "data": {
      "image/png": "[encoded data removed]",
      "text/plain": [
       "<matplotlib.figure.Figure at 0x7f7f618718d0>"
      ]
     },
     "metadata": {},
     "output_type": "display_data"
    }
   ],
   "source": [
    "sns.lmplot(\n",
    "    'blockNumber', \n",
    "    'value', \n",
    "    data=ico_valid[ico_valid['blockNumber']>4215000], \n",
    "    fit_reg=False, size=7, aspect=2\n",
    ")"
   ]
  },
  {
   "cell_type": "code",
   "execution_count": 29,
   "metadata": {
    "collapsed": false
   },
   "outputs": [
    {
     "data": {
      "text/plain": [
       "<seaborn.axisgrid.FacetGrid at 0x7f7f61877d68>"
      ]
     },
     "execution_count": 29,
     "metadata": {},
     "output_type": "execute_result"
    },
    {
     "data": {
      "image/png": "[encoded data removed]",
      "text/plain": [
       "<matplotlib.figure.Figure at 0x7f7f61877668>"
      ]
     },
     "metadata": {},
     "output_type": "display_data"
    }
   ],
   "source": [
    "sns.lmplot(\n",
    "    'blockNumber', \n",
    "    'value', \n",
    "    data=ico_valid[(ico_valid['blockNumber']>4215000)&( ico_valid['value']<3000)], \n",
    "    fit_reg=False, size=7, aspect=2\n",
    ")\n"
   ]
  },
  {
   "cell_type": "code",
   "execution_count": 32,
   "metadata": {
    "collapsed": false
   },
   "outputs": [
    {
     "data": {
      "text/plain": [
       "<seaborn.axisgrid.FacetGrid at 0x7f7f60f548d0>"
      ]
     },
     "execution_count": 32,
     "metadata": {},
     "output_type": "execute_result"
    },
    {
     "data": {
      "image/png": "[encoded data removed]",
      "text/plain": [
       "<matplotlib.figure.Figure at 0x7f7f60f540b8>"
      ]
     },
     "metadata": {},
     "output_type": "display_data"
    }
   ],
   "source": [
    "sns.lmplot(\n",
    "    'blockNumber', \n",
    "    'value', \n",
    "    data=ico_valid[(ico_valid['blockNumber']>4215000)&( ico_valid['value']<400)], \n",
    "    fit_reg=False, size=7, aspect=2\n",
    ")\n"
   ]
  }
 ],
 "metadata": {
  "kernelspec": {
   "display_name": "Python 3",
   "language": "python",
   "name": "python3"
  },
  "language_info": {
   "codemirror_mode": {
    "name": "ipython",
    "version": 3
   },
   "file_extension": ".py",
   "mimetype": "text/x-python",
   "name": "python",
   "nbconvert_exporter": "python",
   "pygments_lexer": "ipython3",
   "version": "3.5.2"
  }
 },
 "nbformat": 4,
 "nbformat_minor": 2
}
